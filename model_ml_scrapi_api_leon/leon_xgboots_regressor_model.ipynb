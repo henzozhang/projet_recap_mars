{
 "cells": [
  {
   "cell_type": "code",
   "execution_count": 1,
   "metadata": {},
   "outputs": [
    {
     "data": {
      "text/html": [
       "<div>\n",
       "<style scoped>\n",
       "    .dataframe tbody tr th:only-of-type {\n",
       "        vertical-align: middle;\n",
       "    }\n",
       "\n",
       "    .dataframe tbody tr th {\n",
       "        vertical-align: top;\n",
       "    }\n",
       "\n",
       "    .dataframe thead th {\n",
       "        text-align: right;\n",
       "    }\n",
       "</style>\n",
       "<table border=\"1\" class=\"dataframe\">\n",
       "  <thead>\n",
       "    <tr style=\"text-align: right;\">\n",
       "      <th></th>\n",
       "      <th>album_type</th>\n",
       "      <th>track_duration</th>\n",
       "      <th>nombre_artist</th>\n",
       "      <th>track_release_month</th>\n",
       "      <th>danceability</th>\n",
       "      <th>energy</th>\n",
       "      <th>key</th>\n",
       "      <th>loudness</th>\n",
       "      <th>mode</th>\n",
       "      <th>speechiness</th>\n",
       "      <th>acousticness</th>\n",
       "      <th>instrumentalness</th>\n",
       "      <th>liveness</th>\n",
       "      <th>valence</th>\n",
       "      <th>tempo</th>\n",
       "      <th>time_signature</th>\n",
       "      <th>pays_du_producteur</th>\n",
       "      <th>popularity</th>\n",
       "    </tr>\n",
       "  </thead>\n",
       "  <tbody>\n",
       "    <tr>\n",
       "      <th>0</th>\n",
       "      <td>album</td>\n",
       "      <td>30000</td>\n",
       "      <td>1</td>\n",
       "      <td>December</td>\n",
       "      <td>0.3210</td>\n",
       "      <td>0.952</td>\n",
       "      <td>6.0</td>\n",
       "      <td>-16.922</td>\n",
       "      <td>1.0</td>\n",
       "      <td>0.2100</td>\n",
       "      <td>0.7050</td>\n",
       "      <td>0.978</td>\n",
       "      <td>0.3400</td>\n",
       "      <td>0.03230</td>\n",
       "      <td>101.659</td>\n",
       "      <td>4.0</td>\n",
       "      <td>AU</td>\n",
       "      <td>0.0</td>\n",
       "    </tr>\n",
       "    <tr>\n",
       "      <th>1</th>\n",
       "      <td>album</td>\n",
       "      <td>30000</td>\n",
       "      <td>1</td>\n",
       "      <td>January</td>\n",
       "      <td>0.2750</td>\n",
       "      <td>0.912</td>\n",
       "      <td>3.0</td>\n",
       "      <td>-23.424</td>\n",
       "      <td>1.0</td>\n",
       "      <td>0.0704</td>\n",
       "      <td>0.9670</td>\n",
       "      <td>0.916</td>\n",
       "      <td>0.1990</td>\n",
       "      <td>0.00000</td>\n",
       "      <td>37.771</td>\n",
       "      <td>4.0</td>\n",
       "      <td>US</td>\n",
       "      <td>35.0</td>\n",
       "    </tr>\n",
       "    <tr>\n",
       "      <th>2</th>\n",
       "      <td>album</td>\n",
       "      <td>30000</td>\n",
       "      <td>1</td>\n",
       "      <td>March</td>\n",
       "      <td>0.1760</td>\n",
       "      <td>0.999</td>\n",
       "      <td>2.0</td>\n",
       "      <td>-25.388</td>\n",
       "      <td>1.0</td>\n",
       "      <td>0.0786</td>\n",
       "      <td>0.0677</td>\n",
       "      <td>0.662</td>\n",
       "      <td>0.7620</td>\n",
       "      <td>0.00001</td>\n",
       "      <td>98.109</td>\n",
       "      <td>4.0</td>\n",
       "      <td>ZZ</td>\n",
       "      <td>59.0</td>\n",
       "    </tr>\n",
       "    <tr>\n",
       "      <th>3</th>\n",
       "      <td>album</td>\n",
       "      <td>30000</td>\n",
       "      <td>1</td>\n",
       "      <td>December</td>\n",
       "      <td>0.0837</td>\n",
       "      <td>0.208</td>\n",
       "      <td>7.0</td>\n",
       "      <td>-20.947</td>\n",
       "      <td>1.0</td>\n",
       "      <td>0.0422</td>\n",
       "      <td>0.7000</td>\n",
       "      <td>0.880</td>\n",
       "      <td>0.0606</td>\n",
       "      <td>0.06500</td>\n",
       "      <td>168.334</td>\n",
       "      <td>5.0</td>\n",
       "      <td>GB</td>\n",
       "      <td>35.0</td>\n",
       "    </tr>\n",
       "    <tr>\n",
       "      <th>4</th>\n",
       "      <td>album</td>\n",
       "      <td>30000</td>\n",
       "      <td>1</td>\n",
       "      <td>December</td>\n",
       "      <td>0.2140</td>\n",
       "      <td>0.236</td>\n",
       "      <td>7.0</td>\n",
       "      <td>-20.772</td>\n",
       "      <td>1.0</td>\n",
       "      <td>0.0448</td>\n",
       "      <td>0.6780</td>\n",
       "      <td>0.878</td>\n",
       "      <td>0.0637</td>\n",
       "      <td>0.03920</td>\n",
       "      <td>79.725</td>\n",
       "      <td>4.0</td>\n",
       "      <td>GB</td>\n",
       "      <td>38.0</td>\n",
       "    </tr>\n",
       "  </tbody>\n",
       "</table>\n",
       "</div>"
      ],
      "text/plain": [
       "  album_type  track_duration  nombre_artist track_release_month  danceability  \\\n",
       "0      album           30000              1            December        0.3210   \n",
       "1      album           30000              1             January        0.2750   \n",
       "2      album           30000              1               March        0.1760   \n",
       "3      album           30000              1            December        0.0837   \n",
       "4      album           30000              1            December        0.2140   \n",
       "\n",
       "   energy  key  loudness  mode  speechiness  acousticness  instrumentalness  \\\n",
       "0   0.952  6.0   -16.922   1.0       0.2100        0.7050             0.978   \n",
       "1   0.912  3.0   -23.424   1.0       0.0704        0.9670             0.916   \n",
       "2   0.999  2.0   -25.388   1.0       0.0786        0.0677             0.662   \n",
       "3   0.208  7.0   -20.947   1.0       0.0422        0.7000             0.880   \n",
       "4   0.236  7.0   -20.772   1.0       0.0448        0.6780             0.878   \n",
       "\n",
       "   liveness  valence    tempo  time_signature pays_du_producteur  popularity  \n",
       "0    0.3400  0.03230  101.659             4.0                 AU         0.0  \n",
       "1    0.1990  0.00000   37.771             4.0                 US        35.0  \n",
       "2    0.7620  0.00001   98.109             4.0                 ZZ        59.0  \n",
       "3    0.0606  0.06500  168.334             5.0                 GB        35.0  \n",
       "4    0.0637  0.03920   79.725             4.0                 GB        38.0  "
      ]
     },
     "execution_count": 1,
     "metadata": {},
     "output_type": "execute_result"
    }
   ],
   "source": [
    "import pandas as pd\n",
    "\n",
    "df = pd.read_csv(\"df_clean.csv\")\n",
    "\n",
    "df.head()"
   ]
  },
  {
   "cell_type": "code",
   "execution_count": 3,
   "metadata": {},
   "outputs": [],
   "source": [
    "df['key']=df[('key')].astype(object)"
   ]
  },
  {
   "cell_type": "code",
   "execution_count": 8,
   "metadata": {},
   "outputs": [],
   "source": [
    "from sklearn.model_selection import train_test_split\n",
    "\n",
    "X=df.drop(['popularity'],axis=1)\n",
    "y=df['popularity']\n",
    "X_train,X_test,y_train,y_test = train_test_split(X, y,shuffle=True, test_size=0.2,random_state=42,stratify=X['pays_du_producteur'])\n",
    "\n",
    "\n"
   ]
  },
  {
   "cell_type": "code",
   "execution_count": 9,
   "metadata": {},
   "outputs": [],
   "source": [
    "numeric_features = list(X.select_dtypes(include=['int', 'float']).columns)\n",
    "categorial_features=list(X.select_dtypes( exclude=['int', 'float']).columns)\n",
    "\n"
   ]
  },
  {
   "cell_type": "code",
   "execution_count": 10,
   "metadata": {},
   "outputs": [
    {
     "data": {
      "text/plain": [
       "<matplotlib.collections.LineCollection at 0x15f960190>"
      ]
     },
     "execution_count": 10,
     "metadata": {},
     "output_type": "execute_result"
    },
    {
     "data": {
      "image/png": "[encoded data removed]",
      "text/plain": [
       "<Figure size 640x480 with 1 Axes>"
      ]
     },
     "metadata": {},
     "output_type": "display_data"
    }
   ],
   "source": [
    "from sklearn.preprocessing import  StandardScaler\n",
    "import numpy as np\n",
    "std = StandardScaler()\n",
    "X_train_standard = std.fit_transform(X_train[numeric_features])\n",
    "\n",
    "from sklearn.decomposition import PCA\n",
    "# Choisir le nb de composants\n",
    "n_dims = X_train_standard.shape[1]\n",
    "model = PCA(n_components=n_dims)\n",
    "model.fit(X_train_standard)\n",
    "\n",
    "variances = model.explained_variance_ratio_\n",
    "\n",
    "meilleur_dims = np.argmax(np.cumsum(variances) > 0.90)\n",
    "\n",
    "import matplotlib.pyplot as plt\n",
    "plt.bar(range(n_dims), np.cumsum(variances))\n",
    "plt.hlines(0.90, 0, meilleur_dims, colors='r')\n",
    "plt.vlines(meilleur_dims, 0, 0.90, colors='r')"
   ]
  },
  {
   "cell_type": "code",
   "execution_count": 19,
   "metadata": {},
   "outputs": [],
   "source": [
    "from sklearn.pipeline import Pipeline\n",
    "from sklearn.preprocessing import StandardScaler,FunctionTransformer,PolynomialFeatures\n",
    "from sklearn.decomposition import PCA\n",
    "\n",
    "numeric_transformer = Pipeline([\n",
    "        # ('log', FunctionTransformer(func=np.log1p)),\n",
    "        ('standard', StandardScaler()),  # Centrer réduire\n",
    "        # ('pca', PCA(n_components=8)),\n",
    "        # ('polyanomie',PolynomialFeatures()) # après standardisation\n",
    "        ])\n",
    "\n",
    "\n",
    "\n",
    "from sklearn.preprocessing import OneHotEncoder\n",
    "# categorical_transformer = OneHotEncoder(sparse=True)\n",
    "\n",
    "categorical_transformer = Pipeline([\n",
    "         ('onehot',OneHotEncoder(drop='if_binary')), \n",
    "        #  ('polyanomie',PolynomialFeatures()) # après standardisation\n",
    "        ])\n",
    "\n",
    "# ############### IV.d Combinaison ##############\n",
    "from sklearn.compose import ColumnTransformer\n",
    "\n",
    "preprocessor = ColumnTransformer(\n",
    "    transformers=[\n",
    "        ('num', numeric_transformer, numeric_features),\n",
    "        ('cat', categorical_transformer, categorial_features)\n",
    "    ],\n",
    "    # remainder=\"passthrough\" \n",
    ")"
   ]
  },
  {
   "cell_type": "code",
   "execution_count": 20,
   "metadata": {},
   "outputs": [],
   "source": [
    "import xgboost as xgb\n",
    "regressor=xgb.XGBRegressor(decisiontree__n_estimators= 700, decisiontree__max_depth= 5, decisiontree__learning_rate = 0.015, eval_metric='rmsle',random_state=42)\n",
    "\n",
    "pipe_xgb_regressor = Pipeline([\n",
    "     ('preprocessor', preprocessor),\n",
    "     ('decisiontree', regressor)\n",
    "])"
   ]
  },
  {
   "cell_type": "code",
   "execution_count": 21,
   "metadata": {},
   "outputs": [
    {
     "name": "stderr",
     "output_type": "stream",
     "text": [
      "2023/03/02 15:05:28 WARNING mlflow.utils.autologging_utils: You are using an unsupported version of sklearn. If you encounter errors during autologging, try upgrading / downgrading sklearn to a supported version, or try upgrading MLflow.\n",
      "2023/03/02 15:05:28 WARNING mlflow.utils: Truncated the value of the key `steps`. Truncated value: `[('preprocessor', ColumnTransformer(transformers=[('num',\n",
      "                                 Pipeline(steps=[('standard',\n",
      "                                                  StandardScaler())]),\n",
      "                                 ['track_duration', 'nombre_artist',\n",
      "                                  'danceability', 'energy', 'loudness', 'mode',\n",
      "                                  'speechiness', 'acousticness',\n",
      "                                  'instrumentalness', 'liveness', 'valence',\n",
      "               ...`\n",
      "2023/03/02 15:05:28 WARNING mlflow.utils: Truncated the value of the key `preprocessor`. Truncated value: `ColumnTransformer(transformers=[('num',\n",
      "                                 Pipeline(steps=[('standard',\n",
      "                                                  StandardScaler())]),\n",
      "                                 ['track_duration', 'nombre_artist',\n",
      "                                  'danceability', 'energy', 'loudness', 'mode',\n",
      "                                  'speechiness', 'acousticness',\n",
      "                                  'instrumentalness', 'liveness', 'valence',\n",
      "                                 ...`\n",
      "2023/03/02 15:05:28 WARNING mlflow.utils: Truncated the value of the key `decisiontree`. Truncated value: `XGBRegressor(base_score=None, booster=None, callbacks=None,\n",
      "             colsample_bylevel=None, colsample_bynode=None,\n",
      "             colsample_bytree=None, decisiontree__learning_rate=0.015,\n",
      "             decisiontree__max_depth=5, decisiontree__n_estimators=700,\n",
      "             early_stopping_rounds=None, enable_categorical=False,\n",
      "             eval_metric='rmsle', feature_types=None, gamma=None, gpu_id=None,\n",
      "             grow_policy=None, importance_type=None,\n",
      "             interaction_constraint...`\n"
     ]
    },
    {
     "name": "stdout",
     "output_type": "stream",
     "text": [
      "[15:05:28] WARNING: /Users/runner/work/xgboost/xgboost/python-package/build/temp.macosx-11.0-arm64-cpython-38/xgboost/src/learner.cc:767: \n",
      "Parameters: { \"decisiontree__learning_rate\", \"decisiontree__max_depth\", \"decisiontree__n_estimators\" } are not used.\n",
      "\n"
     ]
    },
    {
     "name": "stderr",
     "output_type": "stream",
     "text": [
      "2023/03/02 15:05:33 WARNING mlflow.utils.autologging_utils: MLflow autologging encountered a warning: \"/Users/leonzhang/Desktop/Projet-r-capitulatif---Machine-Learning/env/lib/python3.9/site-packages/mlflow/models/signature.py:130: UserWarning: Hint: Inferred schema contains integer column(s). Integer columns in Python cannot represent missing values. If your input data contains missing values at inference time, it will be encoded as floats and will cause a schema enforcement error. The best way to avoid this problem is to infer the model schema based on a realistic data sample (training dataset) that includes missing values. Alternatively, you can declare integer columns as doubles (float64) whenever these columns may have missing values. See `Handling Integers With Missing Values <https://www.mlflow.org/docs/latest/models.html#handling-integers-with-missing-values>`_ for more details.\"\n"
     ]
    }
   ],
   "source": [
    "import mlflow\n",
    "\n",
    "\n",
    "mlflow.set_experiment(\"XGBregressor_models\")\n",
    "mlflow.sklearn.autolog()\n",
    "# premier run\n",
    "with mlflow.start_run(run_name='reg_log_regressor'):\n",
    "  \n",
    "  pipe_xgb_regressor.fit(X_train, y_train)"
   ]
  }
 ],
 "metadata": {
  "kernelspec": {
   "display_name": "env",
   "language": "python",
   "name": "python3"
  },
  "language_info": {
   "codemirror_mode": {
    "name": "ipython",
    "version": 3
   },
   "file_extension": ".py",
   "mimetype": "text/x-python",
   "name": "python",
   "nbconvert_exporter": "python",
   "pygments_lexer": "ipython3",
   "version": "3.9.12"
  },
  "orig_nbformat": 4,
  "vscode": {
   "interpreter": {
    "hash": "db63306c3fd7ad352f473dd877f78152c7f9adee9aba72eeb038ea9bf071a443"
   }
  }
 },
 "nbformat": 4,
 "nbformat_minor": 2
}
